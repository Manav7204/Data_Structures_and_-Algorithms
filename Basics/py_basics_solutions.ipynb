{
 "cells": [
  {
   "cell_type": "markdown",
   "id": "218d39a5",
   "metadata": {},
   "source": [
    "Take two inputs from the user and print their types."
   ]
  },
  {
   "cell_type": "code",
   "execution_count": 1,
   "id": "976370cc",
   "metadata": {},
   "outputs": [
    {
     "name": "stdout",
     "output_type": "stream",
     "text": [
      "<class 'str'> <class 'int'>\n"
     ]
    }
   ],
   "source": [
    "name = input(\"Enter your name: \")\n",
    "age = int(input(\"Enter you age: \"))\n",
    "\n",
    "print(type(name), type(age))"
   ]
  },
  {
   "cell_type": "markdown",
   "id": "f03d7048",
   "metadata": {},
   "source": [
    "Swap two variables without using a third variable."
   ]
  },
  {
   "cell_type": "code",
   "execution_count": 2,
   "id": "8ae698ef",
   "metadata": {},
   "outputs": [
    {
     "name": "stdout",
     "output_type": "stream",
     "text": [
      "After swapping: a=15, b=a10\n"
     ]
    }
   ],
   "source": [
    "a , b = 10, 15\n",
    "a, b = b, a\n",
    "\n",
    "print(f\"After swapping: a={a}, b=a{b}\")"
   ]
  },
  {
   "cell_type": "markdown",
   "id": "5160f510",
   "metadata": {},
   "source": [
    "Check if a string is palindrome without slicing."
   ]
  },
  {
   "cell_type": "code",
   "execution_count": 3,
   "id": "2489402e",
   "metadata": {},
   "outputs": [
    {
     "name": "stdout",
     "output_type": "stream",
     "text": [
      "hello is not a palindrome\n"
     ]
    }
   ],
   "source": [
    "String = input()\n",
    "str = String.lower()\n",
    "reversed_string = \"\"\n",
    "\n",
    "for i in str:\n",
    "    reversed_string = i + reversed_string\n",
    "\n",
    "if str== reversed_string:\n",
    "    print(f\"{String} is a palinfrome\")\n",
    "else:\n",
    "    print(f\"{String} is not a palindrome\")"
   ]
  },
  {
   "cell_type": "markdown",
   "id": "a3554818",
   "metadata": {},
   "source": [
    "Count vowels, consonants, digits, and symbols in a string."
   ]
  },
  {
   "cell_type": "code",
   "execution_count": 4,
   "id": "e4177b64",
   "metadata": {},
   "outputs": [
    {
     "name": "stdout",
     "output_type": "stream",
     "text": [
      "Enetered_String:Manav,\n",
      "Vowels:2|,\n",
      "Consonants:3|,\n",
      "Digits:0|,\n",
      "Symbols:0|\n"
     ]
    }
   ],
   "source": [
    "String = input(\"Enter a string: \")\n",
    "\n",
    "vowels = ['a', 'e', 'i', 'o', 'u', 'A', 'E', 'I', 'O', 'U']\n",
    "consonants = ['b','c','d','f','g','h','j','k','l','m','n','p','q','r','s','t','v','w','x','y','z',\n",
    "             'B','C','D','F','G','H','J','K','L','M','N','P','Q','R','S','T','V','W','X','Y','Z']\n",
    "digits = ['0', '1', '2', '3', '4', '5', '6', '7', '8', '9']\n",
    "\n",
    "vowel_count = 0 \n",
    "consonants_count = 0 \n",
    "digit_count = 0\n",
    "symbol_count = 0\n",
    "\n",
    "for chr in String:\n",
    "    if chr in vowels:\n",
    "        vowel_count +=1\n",
    "    elif chr in consonants:\n",
    "        consonants_count +=1\n",
    "    elif chr in digits:\n",
    "        digit_count +=1\n",
    "    else:\n",
    "        symbol_count +=1\n",
    "\n",
    "print(f\"Enetered_String:{String},\\nVowels:{vowel_count}|,\\nConsonants:{consonants_count}|,\\nDigits:{digit_count}|,\\nSymbols:{symbol_count}|\")"
   ]
  },
  {
   "cell_type": "markdown",
   "id": "0c0fd223",
   "metadata": {},
   "source": [
    "Remove all duplicate characters from a string."
   ]
  },
  {
   "cell_type": "code",
   "execution_count": 5,
   "id": "c507649e",
   "metadata": {},
   "outputs": [
    {
     "name": "stdout",
     "output_type": "stream",
     "text": [
      "String: hello\n",
      "Removing duplicates: helo\n"
     ]
    }
   ],
   "source": [
    "String =  input()\n",
    "\n",
    "new_string = \"\"\n",
    "\n",
    "for char in String:\n",
    "    if char not in new_string:\n",
    "        new_string = new_string + char\n",
    "\n",
    "print(f\"String: {String}\")\n",
    "print(f\"Removing duplicates: {new_string}\")"
   ]
  },
  {
   "cell_type": "markdown",
   "id": "d203f1c5",
   "metadata": {},
   "source": [
    "Reverse a list without using built-in methods."
   ]
  },
  {
   "cell_type": "code",
   "execution_count": 6,
   "id": "915fdd73",
   "metadata": {},
   "outputs": [
    {
     "name": "stdout",
     "output_type": "stream",
     "text": [
      "Original list: [1, 2, 3, 4, 5, 2, 1, 7, 8, 4]\n",
      "[4, 8, 7, 1, 2, 5, 4, 3, 2, 1]\n"
     ]
    }
   ],
   "source": [
    "list = [1, 2, 3, 4, 5 , 2, 1, 7, 8, 4]\n",
    "reversed_list = []\n",
    "\n",
    "index = len(list)-1\n",
    "\n",
    "while index >=0:\n",
    "    reversed_list.append(list[index])\n",
    "    index -=1\n",
    "\n",
    "print(f\"Original list: {list}\")\n",
    "print(reversed_list)"
   ]
  },
  {
   "cell_type": "code",
   "execution_count": 7,
   "id": "8f2ed4e6",
   "metadata": {},
   "outputs": [
    {
     "name": "stdout",
     "output_type": "stream",
     "text": [
      "Given list: [4, 3, 2, 1]\n",
      "reversed_list: [4, 3, 2, 1]\n"
     ]
    }
   ],
   "source": [
    "list = [1, 2, 3, 4]\n",
    "reversed_list = list\n",
    "start = 0\n",
    "end = len(list)-1\n",
    "\n",
    "while start < end:\n",
    "    list[start], list[end] = list[end], list[start]\n",
    "    start +=1\n",
    "    end -=1\n",
    "print(f\"Given list: {list}\")\n",
    "print(f\"reversed_list: {reversed_list}\")"
   ]
  },
  {
   "cell_type": "code",
   "execution_count": 16,
   "id": "8686b189",
   "metadata": {},
   "outputs": [
    {
     "name": "stdout",
     "output_type": "stream",
     "text": [
      "[4, 8, 7, 1, 2, 5, 4, 3, 2, 1]\n"
     ]
    }
   ],
   "source": [
    "list = [1, 2, 3, 4, 5, 2, 1, 7, 8, 4]\n",
    "rev_list = []\n",
    "stack = []\n",
    "i=0\n",
    "\n",
    "for i in list:\n",
    "    stack.append(i)\n",
    "    i +=1\n",
    "\n",
    "for k in range(len(stack)):\n",
    "    x = stack.pop()\n",
    "    rev_list.append(x)\n",
    "    k +=1\n",
    "\n",
    "print(rev_list)\n"
   ]
  },
  {
   "cell_type": "markdown",
   "id": "64e39f4d",
   "metadata": {},
   "source": [
    "Sort a list manually using a loop (no sort())"
   ]
  },
  {
   "cell_type": "code",
   "execution_count": 14,
   "id": "15849dd1",
   "metadata": {},
   "outputs": [
    {
     "name": "stdout",
     "output_type": "stream",
     "text": [
      "Sorted list: [1, 2, 3, 4, 5]\n"
     ]
    }
   ],
   "source": [
    "list = [2, 5, 3, 4, 1]\n",
    "\n",
    "def sorting(arr):\n",
    "    n =  len(arr)\n",
    "    for i in range(n):\n",
    "        for j in range(i+1,n):\n",
    "            if arr[i]>arr[j]:\n",
    "                arr[i],arr[j] = arr[j], arr[i]\n",
    "    return arr\n",
    "\n",
    "sorted_list = sorting(list)\n",
    "print(f\"Sorted list: {sorted_list}\")"
   ]
  },
  {
   "cell_type": "markdown",
   "id": "20c86732",
   "metadata": {},
   "source": [
    "Remove all occurrences of a given element from a list."
   ]
  },
  {
   "cell_type": "code",
   "execution_count": 25,
   "id": "06b78ffd",
   "metadata": {},
   "outputs": [
    {
     "name": "stdout",
     "output_type": "stream",
     "text": [
      "List after removing 2: [1, 3, 4, 5, 1, 7, 8, 4]\n"
     ]
    }
   ],
   "source": [
    "list = [1, 2, 3, 4, 5, 2, 1, 7, 8, 4]\n",
    "\n",
    "num = int(input(\"Enter number to be removed: \"))\n",
    "\n",
    "final = []\n",
    "\n",
    "for i in range(len(list)):\n",
    "    if num not in list:\n",
    "        print(\"Number not in list\")\n",
    "        break\n",
    "    elif list[i] != num:\n",
    "        final.append(list[i])\n",
    "        i +=1\n",
    "    else:\n",
    "        i +=1\n",
    "    \n",
    "print(f\"List after removing {num}: {final}\")"
   ]
  },
  {
   "cell_type": "markdown",
   "id": "187cdb25",
   "metadata": {},
   "source": [
    "Convert a tuple to list and back to tuple."
   ]
  },
  {
   "cell_type": "code",
   "execution_count": 1,
   "id": "8039ed23",
   "metadata": {},
   "outputs": [
    {
     "name": "stdout",
     "output_type": "stream",
     "text": [
      "[1, 2, 3, 4, 5]\n",
      "<class 'list'>\n",
      "(1, 2, 3, 4, 5)\n",
      "<class 'tuple'>\n"
     ]
    }
   ],
   "source": [
    "tup = (1,2,3,4,5)\n",
    "\n",
    "def to_list(arr):\n",
    "    list_res = []\n",
    "    for i in range(len(arr)):\n",
    "        temp = arr[i]\n",
    "        list_res.append(temp)\n",
    "    return list_res\n",
    "\n",
    "def to_tuple(arr):\n",
    "    tup_res = ()\n",
    "    for i in range(len(arr)):\n",
    "        temp = arr[i]\n",
    "        tup_res += (temp,)\n",
    "    return tup_res\n",
    "\n",
    "lst = to_list(tup)\n",
    "print(lst)\n",
    "print(type(lst))\n",
    "\n",
    "tup2 = to_tuple(lst)\n",
    "print(tup2)\n",
    "print(type(tup2))\n"
   ]
  },
  {
   "cell_type": "markdown",
   "id": "6faae88f",
   "metadata": {},
   "source": [
    "Unpack a tuple into variables"
   ]
  },
  {
   "cell_type": "code",
   "execution_count": null,
   "id": "c1ab1c6a",
   "metadata": {},
   "outputs": [],
   "source": []
  },
  {
   "cell_type": "code",
   "execution_count": null,
   "id": "f169a501",
   "metadata": {},
   "outputs": [],
   "source": []
  }
 ],
 "metadata": {
  "kernelspec": {
   "display_name": "myenv",
   "language": "python",
   "name": "python3"
  },
  "language_info": {
   "codemirror_mode": {
    "name": "ipython",
    "version": 3
   },
   "file_extension": ".py",
   "mimetype": "text/x-python",
   "name": "python",
   "nbconvert_exporter": "python",
   "pygments_lexer": "ipython3",
   "version": "3.12.0"
  }
 },
 "nbformat": 4,
 "nbformat_minor": 5
}
