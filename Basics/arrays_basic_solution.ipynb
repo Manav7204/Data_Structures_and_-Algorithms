{
 "cells": [
  {
   "cell_type": "markdown",
   "id": "54132057",
   "metadata": {},
   "source": [
    "Take n integers as input and store in a list. Print the list."
   ]
  },
  {
   "cell_type": "code",
   "execution_count": 1,
   "id": "9b9dbcbf",
   "metadata": {},
   "outputs": [
    {
     "name": "stdout",
     "output_type": "stream",
     "text": [
      "List: [22, 1, 5]\n"
     ]
    }
   ],
   "source": [
    "num = int(input(\"Enter number of integers: \"))\n",
    "lst = []\n",
    "\n",
    "for i in range(num):\n",
    "    int_list = int(input(\"\"))\n",
    "    lst.append(int_list)\n",
    "\n",
    "print(f\"List: {lst}\")"
   ]
  },
  {
   "cell_type": "markdown",
   "id": "2b92bc80",
   "metadata": {},
   "source": [
    "Print the sum of all elements in a list."
   ]
  },
  {
   "cell_type": "code",
   "execution_count": 4,
   "id": "6fdee853",
   "metadata": {},
   "outputs": [
    {
     "name": "stdout",
     "output_type": "stream",
     "text": [
      "Sum of list: 15\n"
     ]
    }
   ],
   "source": [
    "lst = [ 1, 2, 3, 4, 5]\n",
    "sum = 0\n",
    "\n",
    "for i in range(len(lst)):\n",
    "    sum = sum + lst[i]\n",
    "\n",
    "print(f\"Sum of list: {sum}\")"
   ]
  },
  {
   "cell_type": "markdown",
   "id": "36508680",
   "metadata": {},
   "source": [
    "Find the maximum and minimum element in a list (without max()/min())"
   ]
  },
  {
   "cell_type": "code",
   "execution_count": null,
   "id": "08239be9",
   "metadata": {},
   "outputs": [],
   "source": []
  },
  {
   "cell_type": "code",
   "execution_count": null,
   "id": "3c01a351",
   "metadata": {},
   "outputs": [],
   "source": []
  },
  {
   "cell_type": "code",
   "execution_count": null,
   "id": "a77ec708",
   "metadata": {},
   "outputs": [],
   "source": []
  },
  {
   "cell_type": "code",
   "execution_count": null,
   "id": "93335ba9",
   "metadata": {},
   "outputs": [],
   "source": []
  }
 ],
 "metadata": {
  "kernelspec": {
   "display_name": "myenv",
   "language": "python",
   "name": "python3"
  },
  "language_info": {
   "codemirror_mode": {
    "name": "ipython",
    "version": 3
   },
   "file_extension": ".py",
   "mimetype": "text/x-python",
   "name": "python",
   "nbconvert_exporter": "python",
   "pygments_lexer": "ipython3",
   "version": "3.12.0"
  }
 },
 "nbformat": 4,
 "nbformat_minor": 5
}
